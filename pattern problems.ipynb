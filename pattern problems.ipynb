{
 "cells": [
  {
   "cell_type": "code",
   "execution_count": 1,
   "id": "28c64fff",
   "metadata": {},
   "outputs": [],
   "source": [
    "matrix = [[1,2,3,4],[5,6,7,8],[9,10,11,12]]\n",
    "m = len(matrix) # number of rows\n",
    "n = len(matrix[0]) # number of columns"
   ]
  },
  {
   "cell_type": "code",
   "execution_count": 2,
   "id": "899c13c7",
   "metadata": {},
   "outputs": [
    {
     "name": "stdout",
     "output_type": "stream",
     "text": [
      "1\n",
      "\n",
      "12\n",
      "\n",
      "123\n",
      "\n",
      "1234\n",
      "\n",
      "12345\n",
      "\n"
     ]
    }
   ],
   "source": [
    "for i in range (5):\n",
    "    for j in range (5):\n",
    "        if j<=i:\n",
    "            print(j+1,end='')\n",
    "    print ('\\n')"
   ]
  },
  {
   "cell_type": "code",
   "execution_count": 3,
   "id": "bad25363",
   "metadata": {},
   "outputs": [
    {
     "name": "stdout",
     "output_type": "stream",
     "text": [
      "1\n",
      "12\n",
      "123\n",
      "1234\n",
      "12345\n"
     ]
    }
   ],
   "source": [
    "n=5\n",
    "for i in range(1,n+1):\n",
    "    for j in range (1,i+1):\n",
    "        print(j,end='')\n",
    "    print()"
   ]
  },
  {
   "cell_type": "code",
   "execution_count": 4,
   "id": "de21b471",
   "metadata": {},
   "outputs": [
    {
     "name": "stdout",
     "output_type": "stream",
     "text": [
      "                        ( 0 3 )                         \n",
      "        ( 1 1 ) ( 1 2 ) ( 1 3 ) ( 1 4 ) ( 1 5 )         \n",
      "( 2 0 ) ( 2 1 ) ( 2 2 ) ( 2 3 ) ( 2 4 ) ( 2 5 ) ( 2 6 ) \n"
     ]
    }
   ],
   "source": [
    "left = 3\n",
    "right = 3\n",
    "update =2\n",
    "for i in range (3):\n",
    "    num=1\n",
    "    for j in range (7):\n",
    "        if j <left or j> right:\n",
    "            print('       ',end=' ')\n",
    "        else:\n",
    "            print('(',i,j,')',end=' ')\n",
    "    left -= update\n",
    "    right += update\n",
    "    update -= 1\n",
    "    print()"
   ]
  },
  {
   "cell_type": "code",
   "execution_count": 5,
   "id": "1fc1753e",
   "metadata": {},
   "outputs": [
    {
     "name": "stdout",
     "output_type": "stream",
     "text": [
      "      1       \n",
      "  1   2   1   \n",
      "1   3   3   1 \n"
     ]
    }
   ],
   "source": [
    "left = 3\n",
    "right = 3\n",
    "update =2\n",
    "for i in range (3):\n",
    "    num=1\n",
    "    for j in range (7):\n",
    "        if j <left or j> right:\n",
    "            print(' ',end=' ')\n",
    "        elif j>=left and j<3:\n",
    "            if left%2==1 and j%2==0:\n",
    "                print (' ',end=' ')\n",
    "            elif left%2==0 and j%2==1:\n",
    "                print (' ',end=' ')\n",
    "            else:\n",
    "                print(num,end=' ')\n",
    "                if j!=2:\n",
    "                    num+=2-update\n",
    "        else:\n",
    "            if left%2==1 and j%2==0:\n",
    "                print (' ',end=' ')\n",
    "            elif left%2==0 and j%2==1:\n",
    "                print (' ',end=' ')\n",
    "            else:\n",
    "                print(num,end=' ')\n",
    "                num-=2-update\n",
    "    left -= update\n",
    "    right += update\n",
    "    update -= 1\n",
    "    print()"
   ]
  },
  {
   "cell_type": "code",
   "execution_count": 6,
   "id": "52b5d07c",
   "metadata": {},
   "outputs": [
    {
     "name": "stdout",
     "output_type": "stream",
     "text": [
      "*\n",
      "**\n",
      "***\n",
      "****\n",
      "*****\n"
     ]
    }
   ],
   "source": [
    "n = 5\n",
    "for i in range (1,n+1):\n",
    "    for j in range (i):\n",
    "        print ('*',end ='')\n",
    "    print ()"
   ]
  },
  {
   "cell_type": "markdown",
   "id": "76c55933",
   "metadata": {},
   "source": [
    "# inverted half pyramid"
   ]
  },
  {
   "cell_type": "code",
   "execution_count": 7,
   "id": "e9712847",
   "metadata": {},
   "outputs": [
    {
     "name": "stdout",
     "output_type": "stream",
     "text": [
      "*\n",
      "**\n",
      "***\n",
      "****\n"
     ]
    }
   ],
   "source": [
    "n= 4\n",
    "for i in range(1,n+1):\n",
    "    for j in range (i):\n",
    "        print ('*',end='')\n",
    "    print()"
   ]
  },
  {
   "cell_type": "code",
   "execution_count": 8,
   "id": "2d738fe4",
   "metadata": {},
   "outputs": [
    {
     "name": "stdout",
     "output_type": "stream",
     "text": [
      "****\n",
      "***\n",
      "**\n",
      "*\n"
     ]
    }
   ],
   "source": [
    "n= 4\n",
    "for i in range(n,0,-1):\n",
    "    for j in range (i):\n",
    "        print ('*',end='')\n",
    "    print()"
   ]
  },
  {
   "cell_type": "code",
   "execution_count": 9,
   "id": "f1deac38",
   "metadata": {},
   "outputs": [
    {
     "name": "stdout",
     "output_type": "stream",
     "text": [
      "___*\n",
      "__**\n",
      "_***\n",
      "****\n"
     ]
    }
   ],
   "source": [
    "N= 4\n",
    "for i in range(1,N+1): \n",
    "    #for each column from 1 to 2N-1 \n",
    "    for j in range(1,N+1): \n",
    "        #check if column is within the range of asterisks \n",
    "        if j>=N-i+1 and j<=N+i-1: \n",
    "            #print asterisk without newline \n",
    "            print('*',end ='') \n",
    "        else: \n",
    "            #print underscore without newline \n",
    "            print('_',end=\"\") \n",
    "            #print newline \n",
    "    \n",
    "    print()"
   ]
  },
  {
   "cell_type": "code",
   "execution_count": 10,
   "id": "f438fdda",
   "metadata": {},
   "outputs": [
    {
     "name": "stdout",
     "output_type": "stream",
     "text": [
      "_____*6|1|6|\n",
      "____**5|2|6|\n",
      "___***4|3|6|\n",
      "__****3|4|6|\n",
      "_*****2|5|6|\n",
      "******1|6|6|\n"
     ]
    }
   ],
   "source": [
    "N= 6\n",
    "for i in range(1,N+1): \n",
    "    for j in range(1,N+1): \n",
    "        if j>=N-i+1 : \n",
    "            \n",
    "            print('*',end ='') \n",
    "        else: \n",
    "            print('_',end=\"\") \n",
    "    print (N-i+1,end=\"|\")\n",
    "    print (i,end=\"|\")\n",
    "    print (j,end=\"|\")\n",
    "    print()\n"
   ]
  },
  {
   "cell_type": "code",
   "execution_count": 11,
   "id": "5bfb9282",
   "metadata": {},
   "outputs": [
    {
     "name": "stdout",
     "output_type": "stream",
     "text": [
      "_\n",
      "__\n",
      "___\n",
      "___*\n",
      "__***\n",
      "_*****\n",
      "*******\n"
     ]
    }
   ],
   "source": [
    "N= 7\n",
    "for i in range(1,N+1): \n",
    "    for j in range(1,i+1): \n",
    "        if j>=N-i+1 : \n",
    "            \n",
    "            print('*',end ='') \n",
    "        else: \n",
    "            print('_',end=\"\") \n",
    "    \n",
    "    print()\n"
   ]
  },
  {
   "cell_type": "code",
   "execution_count": 12,
   "id": "b83100d9",
   "metadata": {},
   "outputs": [
    {
     "name": "stdout",
     "output_type": "stream",
     "text": [
      "*****\n",
      "****\n",
      "***\n",
      "**\n",
      "*\n"
     ]
    }
   ],
   "source": [
    "n=5\n",
    "for i in range (n):\n",
    "    for j in range (n-i):\n",
    "        print('*', end='')\n",
    "    print()"
   ]
  },
  {
   "cell_type": "code",
   "execution_count": 13,
   "id": "a1874ae8",
   "metadata": {},
   "outputs": [
    {
     "name": "stdout",
     "output_type": "stream",
     "text": [
      "  *\n",
      " ***\n",
      "*****\n"
     ]
    }
   ],
   "source": [
    "n=3\n",
    "for row in range (n):\n",
    "    for col in range (n-row-1):\n",
    "        print(' ',end='')\n",
    "        \n",
    "    for col in range (2*row+1):\n",
    "        print('*', end='')\n",
    "    print()"
   ]
  },
  {
   "cell_type": "code",
   "execution_count": 14,
   "id": "95a46e18",
   "metadata": {},
   "outputs": [
    {
     "name": "stdout",
     "output_type": "stream",
     "text": [
      "  * \n",
      " * * \n",
      "* * * \n",
      " * * \n",
      "  * \n"
     ]
    }
   ],
   "source": [
    "n=3\n",
    "for row in range (0,n):\n",
    "    for col in range (0,n-row-1):\n",
    "        print (end=' ')\n",
    "    for col in range (0,row+1):\n",
    "        print('* ',end=\"\")\n",
    "    print()\n",
    "for row in range (n-1,0,-1):\n",
    "    for col in range (n,row,-1):\n",
    "        print (end=' ')\n",
    "    for col in range (0,row):\n",
    "        print ('* ', end='')\n",
    "    print()"
   ]
  },
  {
   "cell_type": "code",
   "execution_count": 15,
   "id": "93f26bcd",
   "metadata": {},
   "outputs": [
    {
     "name": "stdout",
     "output_type": "stream",
     "text": [
      "\n",
      "* \n",
      "* * \n",
      "* * * \n",
      "* * \n",
      "* \n"
     ]
    }
   ],
   "source": [
    "n=3\n",
    "for r in range (2*n):\n",
    "    for c in range (r):\n",
    "        if r<n:  \n",
    "            print('* ',end='')\n",
    "    for c in range (2*n-r):\n",
    "        if r>=n:\n",
    "            print('* ',end='')\n",
    "    print()"
   ]
  },
  {
   "cell_type": "code",
   "execution_count": 16,
   "id": "19402b2a",
   "metadata": {},
   "outputs": [
    {
     "name": "stdout",
     "output_type": "stream",
     "text": [
      "     \n",
      "    * \n",
      "   * * \n",
      "  * * * \n",
      "   * * \n",
      "    * \n"
     ]
    }
   ],
   "source": [
    "n=3\n",
    "for r in range (2*n):\n",
    "    for c in range (2*n-r-1):\n",
    "        if r<=n: \n",
    "            print (end=' ')\n",
    "    for c in range (r):\n",
    "        if r<=n:  \n",
    "            print('* ',end='')\n",
    "    for c in range (r-n+2):\n",
    "        if r>n: \n",
    "            print (end=' ')\n",
    "    for c in range (2*n-r):\n",
    "        if r>n:\n",
    "            print('* ',end='')\n",
    "\n",
    "    print ()"
   ]
  },
  {
   "cell_type": "code",
   "execution_count": 17,
   "id": "2e7fbd93",
   "metadata": {},
   "outputs": [
    {
     "name": "stdout",
     "output_type": "stream",
     "text": [
      "      \n",
      "     * \n",
      "    * * \n",
      "   * * * \n",
      "  * * * * \n",
      " * * * * * \n"
     ]
    }
   ],
   "source": [
    "n=3\n",
    "for r in range (2*n):\n",
    "    for c in range (2*n-r):\n",
    "        if r<=n: \n",
    "            print (end=' ')\n",
    "    for c in range (r):\n",
    "        if r<=n:  \n",
    "            print('* ',end='')\n",
    "    for c in range (2*n-r):\n",
    "        if r>n: \n",
    "            print (end=' ')\n",
    "    for c in range (r):\n",
    "        if r>n:\n",
    "            print('* ',end='')\n",
    "            \n",
    "    print()"
   ]
  },
  {
   "cell_type": "code",
   "execution_count": 18,
   "id": "91af7ca0",
   "metadata": {},
   "outputs": [
    {
     "name": "stdout",
     "output_type": "stream",
     "text": [
      "    1\n",
      "   212\n",
      "  32123\n",
      " 4321234\n",
      "543212345\n"
     ]
    }
   ],
   "source": [
    "n=4\n",
    "for r in range (n+1):\n",
    "    for c in range (n-r):\n",
    "        print(' ',end='')\n",
    "    \n",
    "    for c in range (r+1,0,-1):\n",
    "        print (c, end='')\n",
    "        \n",
    "    for c in range (2,r+2):\n",
    "        print (c, end='')\n",
    "        \n",
    "    print()"
   ]
  },
  {
   "cell_type": "code",
   "execution_count": 19,
   "id": "e9365a7c",
   "metadata": {},
   "outputs": [
    {
     "name": "stdout",
     "output_type": "stream",
     "text": [
      "    1\n",
      "   212\n",
      "  32123\n",
      " 4321234\n",
      "543212345\n",
      " 4321234\n",
      "  32123\n",
      "   212\n",
      "    1\n"
     ]
    }
   ],
   "source": [
    "n=4\n",
    "for r in range (n+1):\n",
    "    for c in range (n-r):\n",
    "        print(' ',end='')\n",
    "    \n",
    "    for c in range (r+1,0,-1):\n",
    "        print (c, end='')\n",
    "        \n",
    "    for c in range (2,r+2):\n",
    "        print (c, end='')\n",
    "    print()    \n",
    "\n",
    "num = 4    \n",
    "for r in range (r,2*n):\n",
    "    for c in range (r-n+1):\n",
    "            print (' ',end='')\n",
    "    \n",
    "    for c in range (2*n-r):\n",
    "            print (num-c, end='')\n",
    "    num-=1 \n",
    "    \n",
    "    for c in range(3,2*n-r+2):\n",
    "        print (c-1,end='')\n",
    "       \n",
    "    print()\n",
    "    "
   ]
  },
  {
   "cell_type": "code",
   "execution_count": 20,
   "id": "5b3ada6f",
   "metadata": {},
   "outputs": [
    {
     "name": "stdout",
     "output_type": "stream",
     "text": [
      "   1\n",
      "  121\n",
      " 12321\n",
      "1234321\n",
      " 12321\n",
      "  121\n",
      "   1\n"
     ]
    }
   ],
   "source": [
    "# number triangle pattern\n",
    "n = 4 # size of the pattern\n",
    "s = n - 1 # number of spaces in the first row\n",
    "d = 1 # number of digits in the first row\n",
    "for i in range(n): # loop for the upper half of the pattern\n",
    "    for j in range(s): # loop for printing spaces\n",
    "        print(\" \", end=\"\")\n",
    "    num = 1 # starting number for each row\n",
    "    for k in range(d): # loop for printing digits in ascending order\n",
    "        print(num, end=\"\")\n",
    "        num += 1 # increment the number by 1\n",
    "    num -= 2 # decrement the number by 2 to print digits in descending order\n",
    "    for l in range(d - 1): # loop for printing digits in descending order\n",
    "        print(num, end=\"\")\n",
    "        num -= 1 # decrement the number by 1\n",
    "    print() # new line after each row\n",
    "    s -= 1 # decrease the number of spaces by 1 for each row\n",
    "    d += 1 # increase the number of digits by 1 for each row\n",
    "\n",
    "s = 1 # reset the number of spaces for the lower half of the pattern\n",
    "d = n - 1 # reset the number of digits for the lower half of the pattern\n",
    "for i in range(n - 1): # loop for the lower half of the pattern\n",
    "    for j in range(s): # loop for printing spaces\n",
    "        print(\" \", end=\"\")\n",
    "    num = 1 # starting number for each row\n",
    "    for k in range(d): # loop for printing digits in ascending order\n",
    "        print(num, end=\"\")\n",
    "        num += 1 # increment the number by 1\n",
    "    num -= 2 # decrement the number by 2 to print digits in descending order\n",
    "    for l in range(d - 1): # loop for printing digits in descending order\n",
    "        print(num, end=\"\")\n",
    "        num -= 1 # decrement the number by 1\n",
    "    print()\n",
    "    s += 1 # increase the number of spaces by 1 for each row\n",
    "    d -= 1 # decrease the number of digits by 1 for each row\n",
    "\n"
   ]
  },
  {
   "cell_type": "code",
   "execution_count": 21,
   "id": "0124715f",
   "metadata": {},
   "outputs": [
    {
     "name": "stdout",
     "output_type": "stream",
     "text": [
      "   1\n",
      "  121\n",
      " 12321\n",
      "1234321\n",
      " 12321\n",
      "  121\n",
      "   1\n"
     ]
    }
   ],
   "source": [
    "n = 4\n",
    "s = n - 1\n",
    "d = 1\n",
    "for i in range(n):\n",
    "    for j in range(s):\n",
    "        print(\" \", end=\"\")\n",
    "    num = 1\n",
    "    for k in range(d):\n",
    "        print(num, end=\"\")\n",
    "        num += 1\n",
    "    num -= 2 \n",
    "    for l in range(d - 1):\n",
    "        print(num, end=\"\")\n",
    "        num -= 1\n",
    "    print()\n",
    "    s -= 1\n",
    "    d += 1\n",
    "\n",
    "s = 1\n",
    "d = n - 1 \n",
    "for i in range(n - 1):\n",
    "    for j in range(s):\n",
    "        print(\" \", end=\"\")\n",
    "    num = 1\n",
    "    for k in range(d): \n",
    "        print(num, end=\"\")\n",
    "        num += 1\n",
    "    num -= 2\n",
    "    for l in range(d - 1):\n",
    "        print(num, end=\"\")\n",
    "        num -= 1\n",
    "    print()\n",
    "    s += 1\n",
    "    d -= 1\n",
    "\n"
   ]
  },
  {
   "cell_type": "code",
   "execution_count": 22,
   "id": "d57e4035",
   "metadata": {},
   "outputs": [
    {
     "name": "stdout",
     "output_type": "stream",
     "text": [
      "4 4 4 4 4 4 4 4 4 \n",
      "4 3 3 3 3 3 3 3 4 \n",
      "4 3 2 2 2 2 2 3 4 \n",
      "4 3 2 1 1 1 2 3 4 \n",
      "4 3 2 1 0 1 2 3 4 \n",
      "4 3 2 1 1 1 2 3 4 \n",
      "4 3 2 2 2 2 2 3 4 \n",
      "4 3 3 3 3 3 3 3 4 \n",
      "4 4 4 4 4 4 4 4 4 \n"
     ]
    }
   ],
   "source": [
    "n = 4\n",
    "for r in range(2*n+1):\n",
    "    for c in range(2*n+1):\n",
    "        k = 2*n - r\n",
    "        l = 2*n - c\n",
    "        digit = min(r, c, k, l) # calculate the minimum distance from the side wall of the matrix\n",
    "        digit = n- digit\n",
    "        print(digit, end=\" \")\n",
    "    print()\n"
   ]
  },
  {
   "cell_type": "code",
   "execution_count": 23,
   "id": "ffd23ae7",
   "metadata": {},
   "outputs": [
    {
     "name": "stdout",
     "output_type": "stream",
     "text": [
      "4444444\n",
      "4333334\n",
      "4322234\n",
      "4321234\n",
      "4322234\n",
      "4333334\n",
      "4444444\n"
     ]
    }
   ],
   "source": [
    "# inner reducing pattern\n",
    "n = 4\n",
    "size = 2 * n - 1\n",
    "front = 0 # starting index of each layer\n",
    "back = size - 1 # ending index of each layer\n",
    "a = [[0] * size for _ in range(size)] # create a 2D list to store the numbers\n",
    "while n != 0:\n",
    "    for i in range(front, back + 1): # loop for the rows of each layer\n",
    "        for j in range(front, back + 1): # loop for the columns of each layer\n",
    "            if i == front or i == back or j == front or j == back: # check if the index is at the boundary of the layer\n",
    "                a[i][j] = n # assign n to the element at that index\n",
    "    front += 1 # increment the starting index by 1 for each layer\n",
    "    back -= 1 # decrement the ending index by 1 for each layer\n",
    "    n -= 1\n",
    "\n",
    "for row in a: # loop for printing the pattern\n",
    "    print(\"\".join(map(str, row))) # convert each row into a string and print it\n"
   ]
  },
  {
   "cell_type": "code",
   "execution_count": 24,
   "id": "997235f1",
   "metadata": {},
   "outputs": [
    {
     "data": {
      "text/plain": [
       "[[5, 5, 5, 5, 5],\n",
       " [5, 4, 4, 4, 5],\n",
       " [5, 4, 3, 4, 5],\n",
       " [5, 4, 4, 4, 5],\n",
       " [5, 5, 5, 5, 5]]"
      ]
     },
     "execution_count": 24,
     "metadata": {},
     "output_type": "execute_result"
    }
   ],
   "source": [
    "n=5\n",
    "[[max(i+1, j+1,n-i,n-j) for j in range(n)] for i in range (n)]"
   ]
  },
  {
   "cell_type": "code",
   "execution_count": 25,
   "id": "36618ee7",
   "metadata": {},
   "outputs": [
    {
     "name": "stdout",
     "output_type": "stream",
     "text": [
      "000010000\n",
      "000232000\n",
      "003454300\n",
      "045676540\n",
      "567898765\n"
     ]
    }
   ],
   "source": [
    "n=5\n",
    "for r in range (n):\n",
    "    for c in range (n-r-1):\n",
    "        print ('0', end='')   \n",
    "    for c in range (r+1,2*r+2):\n",
    "        print (c,end='')\n",
    "    for c in range (2*r,r,-1):\n",
    "        print (c,end='')\n",
    "    for c in range (n-r-1):\n",
    "        print ('0', end='')\n",
    "\n",
    "    print ()"
   ]
  },
  {
   "cell_type": "code",
   "execution_count": 26,
   "id": "272981c0",
   "metadata": {},
   "outputs": [
    {
     "name": "stdout",
     "output_type": "stream",
     "text": [
      "*\n",
      " *\n",
      "  *\n",
      "   *\n",
      "    *\n",
      "     *\n"
     ]
    }
   ],
   "source": [
    "n= 3\n",
    "for r in range (2 * n):\n",
    "    for c in range(r):\n",
    "        print (' ',end='')\n",
    "    for c in range (1):\n",
    "        print ('*',end='')\n",
    "    print()"
   ]
  },
  {
   "cell_type": "markdown",
   "id": "59159544",
   "metadata": {},
   "source": [
    "### skip even numbers half pyramid"
   ]
  },
  {
   "cell_type": "code",
   "execution_count": 27,
   "id": "f924d8a2",
   "metadata": {},
   "outputs": [
    {
     "name": "stdout",
     "output_type": "stream",
     "text": [
      "1\n",
      "35\n",
      "7911\n",
      "13151719\n"
     ]
    }
   ],
   "source": [
    "n= 4\n",
    "d=1\n",
    "for r in range (n):\n",
    "    for c in range (r+1):\n",
    "        print (d,end='')\n",
    "        d+=2\n",
    "    print()"
   ]
  },
  {
   "cell_type": "code",
   "execution_count": 28,
   "id": "aeb48fa2",
   "metadata": {},
   "outputs": [
    {
     "name": "stdout",
     "output_type": "stream",
     "text": [
      "       *\n",
      "      * \n",
      "     *  \n",
      "    *   \n",
      "   *    \n",
      "  *     \n",
      " *      \n"
     ]
    }
   ],
   "source": [
    "n = 7\n",
    "for r in range(n):\n",
    "    for c in range(n+1):\n",
    "        if r + c == n:\n",
    "            print(\"*\", end=\"\")\n",
    "        else:\n",
    "            print(\" \", end=\"\")\n",
    "    print()"
   ]
  },
  {
   "cell_type": "markdown",
   "id": "733854ae",
   "metadata": {},
   "source": [
    "### butterfly pattern"
   ]
  },
  {
   "cell_type": "code",
   "execution_count": 29,
   "id": "b6e6ae4d",
   "metadata": {},
   "outputs": [
    {
     "name": "stdout",
     "output_type": "stream",
     "text": [
      "**\n",
      "*  *\n",
      "*    *\n",
      "*      *\n",
      "*        *\n",
      "*          *\n",
      "*        *\n",
      "*      *\n",
      "*    *\n",
      "*  *\n",
      "**\n"
     ]
    }
   ],
   "source": [
    "n = 4\n",
    "for r in range(n+1):\n",
    "    print(\"*\", end=\"\")\n",
    "    print(\" \"*(r)*2, end=\"\")\n",
    "    print(\"*\")\n",
    "    \n",
    "# Lower part\n",
    "for r in range(n+1, -1, -1):\n",
    "    print(\"*\", end=\"\")\n",
    "    print(\" \"*(r)*2, end=\"\")\n",
    "    print(\"*\")"
   ]
  },
  {
   "cell_type": "code",
   "execution_count": 30,
   "id": "84d76f2c",
   "metadata": {},
   "outputs": [
    {
     "name": "stdout",
     "output_type": "stream",
     "text": [
      "*      *\n",
      "**    **\n",
      "***  ***\n",
      "********\n",
      "********\n",
      "***  ***\n",
      "**    **\n",
      "*      *\n"
     ]
    }
   ],
   "source": [
    "n= 4\n",
    "for r in range(1,n+1): #or range(n)for no line in between\n",
    "    print(\"*\"*r, end=\"\")\n",
    "    print(\" \"*(n-r)*2, end=\"\")\n",
    "    print(\"*\"*r)\n",
    "for r in range(n, 0, -1):\n",
    "    print(\"*\"*r, end=\"\")\n",
    "    print(\" \"*(n-r)*2, end=\"\")\n",
    "    print(\"*\"*r)"
   ]
  },
  {
   "cell_type": "code",
   "execution_count": 31,
   "id": "99fd01f2",
   "metadata": {},
   "outputs": [
    {
     "name": "stdout",
     "output_type": "stream",
     "text": [
      "*\n",
      "*2\n",
      "*2*\n",
      "*2*4\n",
      "*2*4*\n",
      "*2*4*6\n"
     ]
    }
   ],
   "source": [
    "n= 6\n",
    "for r in range(1,n+1):\n",
    "    for c in range (1,r+1):\n",
    "        if c%2==0:\n",
    "            print (c,end='')\n",
    "        else:\n",
    "            print ('*',end='')\n",
    "    print()"
   ]
  },
  {
   "cell_type": "code",
   "execution_count": 32,
   "id": "32659bd7",
   "metadata": {},
   "outputs": [
    {
     "name": "stdout",
     "output_type": "stream",
     "text": [
      "*   *\n",
      "*   *\n",
      "*   *\n",
      "*   *\n"
     ]
    }
   ],
   "source": [
    "n= 4\n",
    "for r in range(1,n+1):\n",
    "    for c in range (1,n+1):\n",
    "        if c==1:\n",
    "            print ('*',end='')\n",
    "        if c<n:\n",
    "            print (' ',end='')\n",
    "        else:\n",
    "            print ('*',end='')\n",
    "    print()   "
   ]
  },
  {
   "cell_type": "code",
   "execution_count": 33,
   "id": "f65cc6fa",
   "metadata": {},
   "outputs": [
    {
     "name": "stdout",
     "output_type": "stream",
     "text": [
      "*   *\n",
      "*   *\n",
      "*   *\n",
      "*   *\n"
     ]
    }
   ],
   "source": [
    "n= 4\n",
    "for r in range(1,n+1):\n",
    "    print ('*',end='')\n",
    "    for c in range (n-1):\n",
    "        print (' ',end='')\n",
    "    print ('*',end='')\n",
    "    print()     "
   ]
  },
  {
   "cell_type": "code",
   "execution_count": 34,
   "id": "cb9cbf11",
   "metadata": {},
   "outputs": [
    {
     "name": "stdout",
     "output_type": "stream",
     "text": [
      "*************************\n",
      "****  ****  ****  ****  ****  \n",
      "***    ***    ***    ***    ***    \n",
      "**      **      **      **      **      \n",
      "*        *        *        *        *        \n"
     ]
    }
   ],
   "source": [
    "n= 5\n",
    "for r in range(1,n+1):\n",
    "    for c in range (n):\n",
    "        print ('*'*(n-r+1),end='')\n",
    "        print (' '*2*(r-1),end='')\n",
    "    print()"
   ]
  },
  {
   "cell_type": "code",
   "execution_count": 35,
   "id": "a177d9f5",
   "metadata": {},
   "outputs": [
    {
     "name": "stdout",
     "output_type": "stream",
     "text": [
      "**********\n",
      "****  ****\n",
      "***    ***\n",
      "**      **\n",
      "*        *\n"
     ]
    }
   ],
   "source": [
    "n= 5\n",
    "for r in range(1,n+1):\n",
    "    for c in range (n-r+1):\n",
    "        print ('*',end='')\n",
    "    for c in range (2*(r-1)):\n",
    "        print (' ',end='')\n",
    "    for c in range (n-r+1):\n",
    "        print ('*',end='')\n",
    "    print()"
   ]
  },
  {
   "cell_type": "code",
   "execution_count": 36,
   "id": "27a72019",
   "metadata": {},
   "outputs": [
    {
     "name": "stdout",
     "output_type": "stream",
     "text": [
      "*        *\n",
      "**      **\n",
      "***    ***\n",
      "****  ****\n",
      "**********\n"
     ]
    }
   ],
   "source": [
    "n = 5\n",
    "for r in range(n):\n",
    "    for c in range (1,r+2):\n",
    "        print('*',end='')\n",
    "    for c in range (2*(n-r)-2):\n",
    "        print(' ',end='')\n",
    "    for c in range (1,r+2):\n",
    "        print('*',end='')\n",
    "    print()"
   ]
  },
  {
   "cell_type": "code",
   "execution_count": 37,
   "id": "94f05ecf",
   "metadata": {},
   "outputs": [
    {
     "name": "stdout",
     "output_type": "stream",
     "text": [
      "**********\n",
      "****  ****\n",
      "***    ***\n",
      "**      **\n",
      "*        *\n",
      "*        *\n",
      "**      **\n",
      "***    ***\n",
      "****  ****\n",
      "**********\n"
     ]
    }
   ],
   "source": [
    "n= 5\n",
    "for r in range(1,n+1):\n",
    "    for c in range (n-r+1):\n",
    "        print ('*',end='')\n",
    "    for c in range (2*(r-1)):\n",
    "        print (' ',end='')\n",
    "    for c in range (n-r+1):\n",
    "        print ('*',end='')\n",
    "    print()\n",
    "n = 5\n",
    "for r in range(n):\n",
    "    for c in range (1,r+2):\n",
    "        print('*',end='')\n",
    "    for c in range (2*(n-r)-2):\n",
    "        print(' ',end='')\n",
    "    for c in range (1,r+2):\n",
    "        print('*',end='')\n",
    "    print()"
   ]
  },
  {
   "cell_type": "code",
   "execution_count": 38,
   "id": "5f478674",
   "metadata": {},
   "outputs": [
    {
     "name": "stdout",
     "output_type": "stream",
     "text": [
      "        *\n",
      "       ***\n",
      "      *****\n",
      "     *******\n",
      "*****************\n",
      " ***************\n",
      "  *************\n",
      "   ***********\n",
      "   ***********\n",
      "  *************\n",
      " ***************\n",
      "*****************\n",
      "     *******\n",
      "      *****\n",
      "       ***\n",
      "        *\n"
     ]
    }
   ],
   "source": [
    "n= 5\n",
    "for r in range(1,n):\n",
    "    for c in range (1,2*n-r):\n",
    "        print (' ',end='')\n",
    "    for c in range (2*(r)-1):\n",
    "        print ('*',end='')\n",
    "    print()\n",
    "for r in range(1,n):\n",
    "    for c in range (r-1):\n",
    "        print (' ',end='')\n",
    "    for c in range (n-r+1):\n",
    "        print ('*',end='')\n",
    "    for c in range (3,2*n):\n",
    "        print ('*',end='')\n",
    "    for c in range (n-r+1):\n",
    "        print ('*',end='')\n",
    "    print()\n",
    "for r in range(1,n):\n",
    "    for c in range (1,n-r):\n",
    "        print (' ',end='')\n",
    "    for c in range (r):\n",
    "        print ('*',end='')\n",
    "    for c in range (1,2*n):\n",
    "        print ('*',end='')\n",
    "    for c in range (r):\n",
    "        print ('*',end='')\n",
    "    print()\n",
    "for r in range(1,n):\n",
    "    for c in range (1,r+n):\n",
    "        print (' ',end='')\n",
    "    for c in range (2*(n-r)-1):\n",
    "        print ('*',end='')\n",
    "    print()"
   ]
  },
  {
   "cell_type": "code",
   "execution_count": 39,
   "id": "7e0d46fd",
   "metadata": {},
   "outputs": [
    {
     "name": "stdout",
     "output_type": "stream",
     "text": [
      "***** **** *** ** *\n",
      "***** **** *** **\n",
      "***** **** ***\n",
      "***** ****\n",
      "*****\n"
     ]
    }
   ],
   "source": [
    "n=5\n",
    "for r in range (1,n+1):\n",
    "    for c in range (n+1-r):\n",
    "        if c>0:\n",
    "            print (\" \",end=\"\")\n",
    "        for k in range (c,n):\n",
    "            print ('*',end=\"\")\n",
    "    print ()"
   ]
  },
  {
   "cell_type": "code",
   "execution_count": null,
   "id": "0433a1d0",
   "metadata": {},
   "outputs": [],
   "source": []
  },
  {
   "cell_type": "code",
   "execution_count": null,
   "id": "760d5bb9",
   "metadata": {},
   "outputs": [],
   "source": []
  }
 ],
 "metadata": {
  "kernelspec": {
   "display_name": "Python 3 (ipykernel)",
   "language": "python",
   "name": "python3"
  },
  "language_info": {
   "codemirror_mode": {
    "name": "ipython",
    "version": 3
   },
   "file_extension": ".py",
   "mimetype": "text/x-python",
   "name": "python",
   "nbconvert_exporter": "python",
   "pygments_lexer": "ipython3",
   "version": "3.11.1"
  }
 },
 "nbformat": 4,
 "nbformat_minor": 5
}
